{
 "cells": [
  {
   "cell_type": "code",
   "execution_count": 1,
   "id": "491bfe82",
   "metadata": {
    "_cell_guid": "b1076dfc-b9ad-4769-8c92-a6c4dae69d19",
    "_uuid": "8f2839f25d086af736a60e9eeb907d3b93b6e0e5",
    "execution": {
     "iopub.execute_input": "2023-10-13T10:43:45.894639Z",
     "iopub.status.busy": "2023-10-13T10:43:45.894323Z",
     "iopub.status.idle": "2023-10-13T10:43:46.200996Z",
     "shell.execute_reply": "2023-10-13T10:43:46.199093Z"
    },
    "papermill": {
     "duration": 0.313288,
     "end_time": "2023-10-13T10:43:46.203165",
     "exception": false,
     "start_time": "2023-10-13T10:43:45.889877",
     "status": "completed"
    },
    "tags": []
   },
   "outputs": [
    {
     "name": "stdout",
     "output_type": "stream",
     "text": [
      "/kaggle/input/linking-writing-processes-to-writing-quality/sample_submission.csv\n",
      "/kaggle/input/linking-writing-processes-to-writing-quality/test_logs.csv\n",
      "/kaggle/input/linking-writing-processes-to-writing-quality/train_scores.csv\n",
      "/kaggle/input/linking-writing-processes-to-writing-quality/train_logs.csv\n"
     ]
    }
   ],
   "source": [
    "# This Python 3 environment comes with many helpful analytics libraries installed\n",
    "# It is defined by the kaggle/python Docker image: https://github.com/kaggle/docker-python\n",
    "# For example, here's several helpful packages to load\n",
    "\n",
    "import numpy as np # linear algebra\n",
    "import pandas as pd # data processing, CSV file I/O (e.g. pd.read_csv)\n",
    "\n",
    "# Input data files are available in the read-only \"../input/\" directory\n",
    "# For example, running this (by clicking run or pressing Shift+Enter) will list all files under the input directory\n",
    "\n",
    "import os\n",
    "for dirname, _, filenames in os.walk('/kaggle/input'):\n",
    "    for filename in filenames:\n",
    "        print(os.path.join(dirname, filename))\n",
    "\n",
    "# You can write up to 20GB to the current directory (/kaggle/working/) that gets preserved as output when you create a version using \"Save & Run All\" \n",
    "# You can also write temporary files to /kaggle/temp/, but they won't be saved outside of the current session"
   ]
  },
  {
   "cell_type": "code",
   "execution_count": 2,
   "id": "001bda9a",
   "metadata": {
    "execution": {
     "iopub.execute_input": "2023-10-13T10:43:46.212013Z",
     "iopub.status.busy": "2023-10-13T10:43:46.211552Z",
     "iopub.status.idle": "2023-10-13T10:43:56.631605Z",
     "shell.execute_reply": "2023-10-13T10:43:56.629975Z"
    },
    "papermill": {
     "duration": 10.426006,
     "end_time": "2023-10-13T10:43:56.633830",
     "exception": false,
     "start_time": "2023-10-13T10:43:46.207824",
     "status": "completed"
    },
    "tags": []
   },
   "outputs": [],
   "source": [
    "df=pd.read_csv('/kaggle/input/linking-writing-processes-to-writing-quality/train_logs.csv')"
   ]
  },
  {
   "cell_type": "code",
   "execution_count": 3,
   "id": "53558372",
   "metadata": {
    "execution": {
     "iopub.execute_input": "2023-10-13T10:43:56.639462Z",
     "iopub.status.busy": "2023-10-13T10:43:56.639095Z",
     "iopub.status.idle": "2023-10-13T10:43:56.665063Z",
     "shell.execute_reply": "2023-10-13T10:43:56.664358Z"
    },
    "papermill": {
     "duration": 0.03079,
     "end_time": "2023-10-13T10:43:56.666794",
     "exception": false,
     "start_time": "2023-10-13T10:43:56.636004",
     "status": "completed"
    },
    "tags": []
   },
   "outputs": [
    {
     "data": {
      "text/html": [
       "<div>\n",
       "<style scoped>\n",
       "    .dataframe tbody tr th:only-of-type {\n",
       "        vertical-align: middle;\n",
       "    }\n",
       "\n",
       "    .dataframe tbody tr th {\n",
       "        vertical-align: top;\n",
       "    }\n",
       "\n",
       "    .dataframe thead th {\n",
       "        text-align: right;\n",
       "    }\n",
       "</style>\n",
       "<table border=\"1\" class=\"dataframe\">\n",
       "  <thead>\n",
       "    <tr style=\"text-align: right;\">\n",
       "      <th></th>\n",
       "      <th>id</th>\n",
       "      <th>event_id</th>\n",
       "      <th>down_time</th>\n",
       "      <th>up_time</th>\n",
       "      <th>action_time</th>\n",
       "      <th>activity</th>\n",
       "      <th>down_event</th>\n",
       "      <th>up_event</th>\n",
       "      <th>text_change</th>\n",
       "      <th>cursor_position</th>\n",
       "      <th>word_count</th>\n",
       "    </tr>\n",
       "  </thead>\n",
       "  <tbody>\n",
       "    <tr>\n",
       "      <th>0</th>\n",
       "      <td>001519c8</td>\n",
       "      <td>1</td>\n",
       "      <td>4526</td>\n",
       "      <td>4557</td>\n",
       "      <td>31</td>\n",
       "      <td>Nonproduction</td>\n",
       "      <td>Leftclick</td>\n",
       "      <td>Leftclick</td>\n",
       "      <td>NoChange</td>\n",
       "      <td>0</td>\n",
       "      <td>0</td>\n",
       "    </tr>\n",
       "    <tr>\n",
       "      <th>1</th>\n",
       "      <td>001519c8</td>\n",
       "      <td>2</td>\n",
       "      <td>4558</td>\n",
       "      <td>4962</td>\n",
       "      <td>404</td>\n",
       "      <td>Nonproduction</td>\n",
       "      <td>Leftclick</td>\n",
       "      <td>Leftclick</td>\n",
       "      <td>NoChange</td>\n",
       "      <td>0</td>\n",
       "      <td>0</td>\n",
       "    </tr>\n",
       "    <tr>\n",
       "      <th>2</th>\n",
       "      <td>001519c8</td>\n",
       "      <td>3</td>\n",
       "      <td>106571</td>\n",
       "      <td>106571</td>\n",
       "      <td>0</td>\n",
       "      <td>Nonproduction</td>\n",
       "      <td>Shift</td>\n",
       "      <td>Shift</td>\n",
       "      <td>NoChange</td>\n",
       "      <td>0</td>\n",
       "      <td>0</td>\n",
       "    </tr>\n",
       "    <tr>\n",
       "      <th>3</th>\n",
       "      <td>001519c8</td>\n",
       "      <td>4</td>\n",
       "      <td>106686</td>\n",
       "      <td>106777</td>\n",
       "      <td>91</td>\n",
       "      <td>Input</td>\n",
       "      <td>q</td>\n",
       "      <td>q</td>\n",
       "      <td>q</td>\n",
       "      <td>1</td>\n",
       "      <td>1</td>\n",
       "    </tr>\n",
       "    <tr>\n",
       "      <th>4</th>\n",
       "      <td>001519c8</td>\n",
       "      <td>5</td>\n",
       "      <td>107196</td>\n",
       "      <td>107323</td>\n",
       "      <td>127</td>\n",
       "      <td>Input</td>\n",
       "      <td>q</td>\n",
       "      <td>q</td>\n",
       "      <td>q</td>\n",
       "      <td>2</td>\n",
       "      <td>1</td>\n",
       "    </tr>\n",
       "  </tbody>\n",
       "</table>\n",
       "</div>"
      ],
      "text/plain": [
       "         id  event_id  down_time  up_time  action_time       activity  \\\n",
       "0  001519c8         1       4526     4557           31  Nonproduction   \n",
       "1  001519c8         2       4558     4962          404  Nonproduction   \n",
       "2  001519c8         3     106571   106571            0  Nonproduction   \n",
       "3  001519c8         4     106686   106777           91          Input   \n",
       "4  001519c8         5     107196   107323          127          Input   \n",
       "\n",
       "  down_event   up_event text_change  cursor_position  word_count  \n",
       "0  Leftclick  Leftclick    NoChange                0           0  \n",
       "1  Leftclick  Leftclick    NoChange                0           0  \n",
       "2      Shift      Shift    NoChange                0           0  \n",
       "3          q          q           q                1           1  \n",
       "4          q          q           q                2           1  "
      ]
     },
     "execution_count": 3,
     "metadata": {},
     "output_type": "execute_result"
    }
   ],
   "source": [
    "df.head()"
   ]
  },
  {
   "cell_type": "code",
   "execution_count": 4,
   "id": "fa917107",
   "metadata": {
    "execution": {
     "iopub.execute_input": "2023-10-13T10:43:56.673307Z",
     "iopub.status.busy": "2023-10-13T10:43:56.672234Z",
     "iopub.status.idle": "2023-10-13T10:43:56.683910Z",
     "shell.execute_reply": "2023-10-13T10:43:56.682707Z"
    },
    "papermill": {
     "duration": 0.017461,
     "end_time": "2023-10-13T10:43:56.686496",
     "exception": false,
     "start_time": "2023-10-13T10:43:56.669035",
     "status": "completed"
    },
    "tags": []
   },
   "outputs": [],
   "source": [
    "df_t=pd.read_csv('/kaggle/input/linking-writing-processes-to-writing-quality/train_scores.csv')"
   ]
  },
  {
   "cell_type": "code",
   "execution_count": 5,
   "id": "9fdf5c3c",
   "metadata": {
    "execution": {
     "iopub.execute_input": "2023-10-13T10:43:56.692501Z",
     "iopub.status.busy": "2023-10-13T10:43:56.692114Z",
     "iopub.status.idle": "2023-10-13T10:43:56.702752Z",
     "shell.execute_reply": "2023-10-13T10:43:56.700730Z"
    },
    "papermill": {
     "duration": 0.016507,
     "end_time": "2023-10-13T10:43:56.705398",
     "exception": false,
     "start_time": "2023-10-13T10:43:56.688891",
     "status": "completed"
    },
    "tags": []
   },
   "outputs": [
    {
     "data": {
      "text/html": [
       "<div>\n",
       "<style scoped>\n",
       "    .dataframe tbody tr th:only-of-type {\n",
       "        vertical-align: middle;\n",
       "    }\n",
       "\n",
       "    .dataframe tbody tr th {\n",
       "        vertical-align: top;\n",
       "    }\n",
       "\n",
       "    .dataframe thead th {\n",
       "        text-align: right;\n",
       "    }\n",
       "</style>\n",
       "<table border=\"1\" class=\"dataframe\">\n",
       "  <thead>\n",
       "    <tr style=\"text-align: right;\">\n",
       "      <th></th>\n",
       "      <th>id</th>\n",
       "      <th>score</th>\n",
       "    </tr>\n",
       "  </thead>\n",
       "  <tbody>\n",
       "    <tr>\n",
       "      <th>0</th>\n",
       "      <td>001519c8</td>\n",
       "      <td>3.5</td>\n",
       "    </tr>\n",
       "    <tr>\n",
       "      <th>1</th>\n",
       "      <td>0022f953</td>\n",
       "      <td>3.5</td>\n",
       "    </tr>\n",
       "    <tr>\n",
       "      <th>2</th>\n",
       "      <td>0042269b</td>\n",
       "      <td>6.0</td>\n",
       "    </tr>\n",
       "    <tr>\n",
       "      <th>3</th>\n",
       "      <td>0059420b</td>\n",
       "      <td>2.0</td>\n",
       "    </tr>\n",
       "    <tr>\n",
       "      <th>4</th>\n",
       "      <td>0075873a</td>\n",
       "      <td>4.0</td>\n",
       "    </tr>\n",
       "  </tbody>\n",
       "</table>\n",
       "</div>"
      ],
      "text/plain": [
       "         id  score\n",
       "0  001519c8    3.5\n",
       "1  0022f953    3.5\n",
       "2  0042269b    6.0\n",
       "3  0059420b    2.0\n",
       "4  0075873a    4.0"
      ]
     },
     "execution_count": 5,
     "metadata": {},
     "output_type": "execute_result"
    }
   ],
   "source": [
    "df_t.head()"
   ]
  },
  {
   "cell_type": "code",
   "execution_count": 6,
   "id": "645383f6",
   "metadata": {
    "execution": {
     "iopub.execute_input": "2023-10-13T10:43:56.711884Z",
     "iopub.status.busy": "2023-10-13T10:43:56.711539Z",
     "iopub.status.idle": "2023-10-13T10:43:56.741370Z",
     "shell.execute_reply": "2023-10-13T10:43:56.740168Z"
    },
    "papermill": {
     "duration": 0.035685,
     "end_time": "2023-10-13T10:43:56.743830",
     "exception": false,
     "start_time": "2023-10-13T10:43:56.708145",
     "status": "completed"
    },
    "tags": []
   },
   "outputs": [
    {
     "name": "stdout",
     "output_type": "stream",
     "text": [
      "<class 'pandas.core.frame.DataFrame'>\n",
      "RangeIndex: 2471 entries, 0 to 2470\n",
      "Data columns (total 2 columns):\n",
      " #   Column  Non-Null Count  Dtype  \n",
      "---  ------  --------------  -----  \n",
      " 0   id      2471 non-null   object \n",
      " 1   score   2471 non-null   float64\n",
      "dtypes: float64(1), object(1)\n",
      "memory usage: 38.7+ KB\n"
     ]
    }
   ],
   "source": [
    "df_t.info()"
   ]
  },
  {
   "cell_type": "code",
   "execution_count": 7,
   "id": "c418d013",
   "metadata": {
    "execution": {
     "iopub.execute_input": "2023-10-13T10:43:56.750306Z",
     "iopub.status.busy": "2023-10-13T10:43:56.749938Z",
     "iopub.status.idle": "2023-10-13T10:43:56.761290Z",
     "shell.execute_reply": "2023-10-13T10:43:56.759811Z"
    },
    "papermill": {
     "duration": 0.016658,
     "end_time": "2023-10-13T10:43:56.763316",
     "exception": false,
     "start_time": "2023-10-13T10:43:56.746658",
     "status": "completed"
    },
    "tags": []
   },
   "outputs": [
    {
     "name": "stdout",
     "output_type": "stream",
     "text": [
      "<class 'pandas.core.frame.DataFrame'>\n",
      "RangeIndex: 8405898 entries, 0 to 8405897\n",
      "Data columns (total 11 columns):\n",
      " #   Column           Dtype \n",
      "---  ------           ----- \n",
      " 0   id               object\n",
      " 1   event_id         int64 \n",
      " 2   down_time        int64 \n",
      " 3   up_time          int64 \n",
      " 4   action_time      int64 \n",
      " 5   activity         object\n",
      " 6   down_event       object\n",
      " 7   up_event         object\n",
      " 8   text_change      object\n",
      " 9   cursor_position  int64 \n",
      " 10  word_count       int64 \n",
      "dtypes: int64(6), object(5)\n",
      "memory usage: 705.5+ MB\n"
     ]
    }
   ],
   "source": [
    "df.info()"
   ]
  },
  {
   "cell_type": "code",
   "execution_count": 8,
   "id": "978675f9",
   "metadata": {
    "execution": {
     "iopub.execute_input": "2023-10-13T10:43:56.769385Z",
     "iopub.status.busy": "2023-10-13T10:43:56.769069Z",
     "iopub.status.idle": "2023-10-13T10:43:57.073419Z",
     "shell.execute_reply": "2023-10-13T10:43:57.071702Z"
    },
    "papermill": {
     "duration": 0.309511,
     "end_time": "2023-10-13T10:43:57.075276",
     "exception": false,
     "start_time": "2023-10-13T10:43:56.765765",
     "status": "completed"
    },
    "tags": []
   },
   "outputs": [
    {
     "data": {
      "text/plain": [
       "2471"
      ]
     },
     "execution_count": 8,
     "metadata": {},
     "output_type": "execute_result"
    }
   ],
   "source": [
    "df['id'].nunique()"
   ]
  },
  {
   "cell_type": "code",
   "execution_count": null,
   "id": "f0fe4d9c",
   "metadata": {
    "papermill": {
     "duration": 0.002039,
     "end_time": "2023-10-13T10:43:57.079851",
     "exception": false,
     "start_time": "2023-10-13T10:43:57.077812",
     "status": "completed"
    },
    "tags": []
   },
   "outputs": [],
   "source": []
  }
 ],
 "metadata": {
  "kernelspec": {
   "display_name": "Python 3",
   "language": "python",
   "name": "python3"
  },
  "language_info": {
   "codemirror_mode": {
    "name": "ipython",
    "version": 3
   },
   "file_extension": ".py",
   "mimetype": "text/x-python",
   "name": "python",
   "nbconvert_exporter": "python",
   "pygments_lexer": "ipython3",
   "version": "3.10.12"
  },
  "papermill": {
   "default_parameters": {},
   "duration": 14.520727,
   "end_time": "2023-10-13T10:43:57.604010",
   "environment_variables": {},
   "exception": null,
   "input_path": "__notebook__.ipynb",
   "output_path": "__notebook__.ipynb",
   "parameters": {},
   "start_time": "2023-10-13T10:43:43.083283",
   "version": "2.4.0"
  }
 },
 "nbformat": 4,
 "nbformat_minor": 5
}
